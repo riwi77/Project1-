{
 "cells": [
  {
   "cell_type": "code",
   "execution_count": 21,
   "metadata": {},
   "outputs": [],
   "source": [
    "\n",
    "# Initial imports\n",
    "import os\n",
    "import requests \n",
    "import pandas as pd\n",
    "import json\n",
    "from dotenv import load_dotenv\n",
    "from pathlib import Path\n",
    "import numpy as np\n",
    "\n",
    "\n",
    "%matplotlib inline\n"
   ]
  },
  {
   "cell_type": "markdown",
   "metadata": {},
   "source": [
    "import requests\n",
    "response = requests.get(\"https://api.coinbase/v2/currencies\")\n",
    "print(response.status_code)"
   ]
  },
  {
   "cell_type": "code",
   "execution_count": 19,
   "metadata": {},
   "outputs": [],
   "source": [
    "# Use the Pathlib libary to set the path to the CSV\n",
    "df_BTC = Path(\"../Rina/FIAT_USD.csv\")\n",
    "df_DX = Path(\"../Rina/BTC-USD.csv\")\n",
    "\n"
   ]
  },
  {
   "cell_type": "code",
   "execution_count": 22,
   "metadata": {},
   "outputs": [
    {
     "name": "stdout",
     "output_type": "stream",
     "text": [
      "200\n"
     ]
    }
   ],
   "source": [
    "#import requests\n",
    "response = requests.get(\"https://api.exchange.coinbase.com/currencies\")\n",
    "print(response.status_code)\n"
   ]
  },
  {
   "cell_type": "code",
   "execution_count": 41,
   "metadata": {},
   "outputs": [
    {
     "name": "stdout",
     "output_type": "stream",
     "text": [
      "{'id': 'AUCTION', 'name': 'Bounce Token', 'min_size': '0.01', 'status': 'online', 'message': '', 'max_precision': '0.001', 'convertible_to': [], 'details': {'type': 'crypto', 'symbol': '', 'network_confirmations': 35, 'sort_order': 303, 'crypto_address_link': 'https://etherscan.io/token/0xa9b1eb5908cfc3cdf91f9b8b3a74108598009096?a={{address}}', 'crypto_transaction_link': 'https://etherscan.io/tx/0x{{txId}}', 'push_payment_methods': ['crypto'], 'group_types': [], 'display_name': '', 'processing_time_seconds': 0, 'min_withdrawal_amount': 1e-18, 'max_withdrawal_amount': 8000}}\n"
     ]
    },
    {
     "data": {
      "text/html": [
       "<div>\n",
       "<style scoped>\n",
       "    .dataframe tbody tr th:only-of-type {\n",
       "        vertical-align: middle;\n",
       "    }\n",
       "\n",
       "    .dataframe tbody tr th {\n",
       "        vertical-align: top;\n",
       "    }\n",
       "\n",
       "    .dataframe thead th {\n",
       "        text-align: right;\n",
       "    }\n",
       "</style>\n",
       "<table border=\"1\" class=\"dataframe\">\n",
       "  <thead>\n",
       "    <tr style=\"text-align: right;\">\n",
       "      <th></th>\n",
       "      <th>id</th>\n",
       "      <th>name</th>\n",
       "      <th>type</th>\n",
       "      <th>symbol</th>\n",
       "      <th>group_types</th>\n",
       "    </tr>\n",
       "  </thead>\n",
       "  <tbody>\n",
       "    <tr>\n",
       "      <th>0</th>\n",
       "      <td>AUCTION</td>\n",
       "      <td>Bounce Token</td>\n",
       "      <td>crypto</td>\n",
       "      <td></td>\n",
       "      <td>[]</td>\n",
       "    </tr>\n",
       "    <tr>\n",
       "      <th>1</th>\n",
       "      <td>COTI</td>\n",
       "      <td>COTI</td>\n",
       "      <td>crypto</td>\n",
       "      <td></td>\n",
       "      <td>[]</td>\n",
       "    </tr>\n",
       "    <tr>\n",
       "      <th>2</th>\n",
       "      <td>PERP</td>\n",
       "      <td>Perpetual Protocol</td>\n",
       "      <td>crypto</td>\n",
       "      <td></td>\n",
       "      <td>[]</td>\n",
       "    </tr>\n",
       "    <tr>\n",
       "      <th>3</th>\n",
       "      <td>DDX</td>\n",
       "      <td>DerivaDAO</td>\n",
       "      <td>crypto</td>\n",
       "      <td></td>\n",
       "      <td>[]</td>\n",
       "    </tr>\n",
       "    <tr>\n",
       "      <th>4</th>\n",
       "      <td>RAD</td>\n",
       "      <td>Radicle</td>\n",
       "      <td>crypto</td>\n",
       "      <td></td>\n",
       "      <td>[]</td>\n",
       "    </tr>\n",
       "  </tbody>\n",
       "</table>\n",
       "</div>"
      ],
      "text/plain": [
       "        id                name    type symbol group_types\n",
       "0  AUCTION        Bounce Token  crypto                 []\n",
       "1     COTI                COTI  crypto                 []\n",
       "2     PERP  Perpetual Protocol  crypto                 []\n",
       "3      DDX           DerivaDAO  crypto                 []\n",
       "4      RAD             Radicle  crypto                 []"
      ]
     },
     "execution_count": 41,
     "metadata": {},
     "output_type": "execute_result"
    }
   ],
   "source": [
    "\n",
    "#dictionary = json.dumps(response.json(), sort_keys = True, indent = 4)\n",
    "crypto_types = response.json()\n",
    "print(crypto_types[0])\n",
    "crypto_list = []\n",
    "for crypto_type in crypto_types:\n",
    "    id1 = crypto_type['id']\n",
    "    name = crypto_type['name']\n",
    "    type1 = crypto_type['details']['type']\n",
    "    symbol = crypto_type['details']['symbol']\n",
    "    group_types = crypto_type ['details']['group_types'] \n",
    "    crypto_list.append({\"id\": id1, \"name\": name, \"type\": type1, \"symbol\": symbol, \"group_types\": group_types})\n",
    "crypto_df = pd.DataFrame(crypto_list)\n",
    "crypto_df.head()\n",
    "    "
   ]
  },
  {
   "cell_type": "code",
   "execution_count": 26,
   "metadata": {},
   "outputs": [
    {
     "ename": "SyntaxError",
     "evalue": "invalid syntax (1615013045.py, line 2)",
     "output_type": "error",
     "traceback": [
      "\u001b[0;36m  File \u001b[0;32m\"/var/folders/9b/2j4bddqj70j4_vnsdf11rmz00000gn/T/ipykernel_10771/1615013045.py\"\u001b[0;36m, line \u001b[0;32m2\u001b[0m\n\u001b[0;31m    crypto_types = data int(['name']['type']['symbol'])\u001b[0m\n\u001b[0m                        ^\u001b[0m\n\u001b[0;31mSyntaxError\u001b[0m\u001b[0;31m:\u001b[0m invalid syntax\n"
     ]
    }
   ],
   "source": [
    "data = response.json()\n",
    "crypto_df = dictionary['name']['type']['symbol']\n",
    "#researching how to convert strings into intergers or slices \n",
    "#last worked on 10.18.21"
   ]
  },
  {
   "cell_type": "code",
   "execution_count": 4,
   "metadata": {},
   "outputs": [
    {
     "data": {
      "text/plain": [
       "True"
      ]
     },
     "execution_count": 4,
     "metadata": {},
     "output_type": "execute_result"
    }
   ],
   "source": []
  },
  {
   "cell_type": "code",
   "execution_count": 7,
   "metadata": {},
   "outputs": [],
   "source": []
  },
  {
   "cell_type": "code",
   "execution_count": null,
   "metadata": {},
   "outputs": [],
   "source": []
  },
  {
   "cell_type": "code",
   "execution_count": null,
   "metadata": {},
   "outputs": [],
   "source": []
  }
 ],
 "metadata": {
  "interpreter": {
   "hash": "368096bf5c67b64f7235f072bcfb31703d805fe6f208ffd9e6f7c1070c0bd16b"
  },
  "kernelspec": {
   "display_name": "Python 3.8.2 64-bit ('fintech': conda)",
   "language": "python",
   "name": "python382jvsc74a57bd03348cf23ed75c9dac50eb24142da9eba36265541fd4a77b5e2dcd8c09b83e929"
  },
  "language_info": {
   "codemirror_mode": {
    "name": "ipython",
    "version": 3
   },
   "file_extension": ".py",
   "mimetype": "text/x-python",
   "name": "python",
   "nbconvert_exporter": "python",
   "pygments_lexer": "ipython3",
   "version": "3.8.2"
  }
 },
 "nbformat": 4,
 "nbformat_minor": 4
}
